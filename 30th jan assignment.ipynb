{
 "cells": [
  {
   "cell_type": "markdown",
   "id": "3c1fe28c-502e-4c4d-aa13-c60fc10a2d83",
   "metadata": {},
   "source": [
    "30 th jan assignment"
   ]
  },
  {
   "cell_type": "markdown",
   "id": "8b404720-1fec-4e21-80d7-a853194c6f8d",
   "metadata": {},
   "source": [
    "Q.1. Write a program to accept percentage from the user and display the grade according to the following\n"
   ]
  },
  {
   "cell_type": "code",
   "execution_count": 1,
   "id": "d688b8ca-9042-4ab9-99ea-1824b47d01b5",
   "metadata": {},
   "outputs": [
    {
     "name": "stdin",
     "output_type": "stream",
     "text": [
      "Enter your percentage:  45\n"
     ]
    },
    {
     "name": "stdout",
     "output_type": "stream",
     "text": [
      "Your grade is D\n"
     ]
    }
   ],
   "source": [
    "percentage = float(input(\"Enter your percentage: \"))\n",
    "\n",
    "if percentage > 90:\n",
    "    print(\"Your grade is A\")\n",
    "elif percentage > 80 and percentage <= 90:\n",
    "    print(\"Your grade is B\")\n",
    "elif percentage >= 60 and percentage <= 80:\n",
    "    print(\"Your grade is C\")\n",
    "else:\n",
    "    print(\"Your grade is D\")\n"
   ]
  },
  {
   "cell_type": "markdown",
   "id": "4ec70621-d94d-48e6-8cf7-cf46ef5fa55f",
   "metadata": {},
   "source": [
    "Q.2. Write a program to accept the cost price of a bike and display the road tax to be paid according to the\n",
    "following criteria:"
   ]
  },
  {
   "cell_type": "code",
   "execution_count": 3,
   "id": "a1649204-5fe1-406f-8504-f476ea8a4d48",
   "metadata": {},
   "outputs": [
    {
     "name": "stdin",
     "output_type": "stream",
     "text": [
      "Enter the cost price of the bike:  200000\n"
     ]
    },
    {
     "name": "stdout",
     "output_type": "stream",
     "text": [
      "The road tax to be paid is:  30000.0\n"
     ]
    }
   ],
   "source": [
    "cost_price = float(input(\"Enter the cost price of the bike: \"))\n",
    "\n",
    "if cost_price > 100000:\n",
    "    tax = cost_price * 0.15\n",
    "    print(\"The road tax to be paid is: \", tax)\n",
    "elif cost_price > 50000 and cost_price <= 100000:\n",
    "    tax = cost_price * 0.10\n",
    "    print(\"The road tax to be paid is: \", tax)\n",
    "else:\n",
    "    tax = cost_price * 0.05\n",
    "    print(\"The road tax to be paid is: \", tax)\n"
   ]
  },
  {
   "cell_type": "markdown",
   "id": "a12e8cfb-39b1-4b69-9f3c-5fc9631a5d1e",
   "metadata": {},
   "source": [
    "Q.3. Accept any city from the user and display monuments of that city.\n"
   ]
  },
  {
   "cell_type": "code",
   "execution_count": 6,
   "id": "8bc49dbb-ea63-4f8c-a77f-48cd97e9534e",
   "metadata": {},
   "outputs": [
    {
     "name": "stdin",
     "output_type": "stream",
     "text": [
      "Enter a city:  Delhi\n"
     ]
    },
    {
     "name": "stdout",
     "output_type": "stream",
     "text": [
      "The monument of Delhi is Red Fort.\n"
     ]
    }
   ],
   "source": [
    "city = input(\"Enter a city: \")\n",
    "\n",
    "if city == \"Delhi\":\n",
    "    print(\"The monument of\", city, \"is Red Fort.\")\n",
    "elif city == \"Agra\":\n",
    "    print(\"The monument of\", city, \"is Taj Mahal.\")\n",
    "elif city == \"Jaipur\":\n",
    "    print(\"The monument of\", city, \"is Jal Mahal.\")\n",
    "else:\n",
    "    print(\"Monument information not available for\", city)\n"
   ]
  },
  {
   "cell_type": "markdown",
   "id": "533db1a5-df55-4b45-9189-0763b578b0c7",
   "metadata": {},
   "source": [
    "Q.4. Check how many times a given number can be divided by 3 before it is less than or equal to 10.\n"
   ]
  },
  {
   "cell_type": "code",
   "execution_count": 11,
   "id": "6adca96c-1d77-405b-9b5d-5a372a580cd9",
   "metadata": {},
   "outputs": [
    {
     "name": "stdin",
     "output_type": "stream",
     "text": [
      "Enter a number:  2\n"
     ]
    },
    {
     "name": "stdout",
     "output_type": "stream",
     "text": [
      "The number can be divided by 3 0 times.\n"
     ]
    }
   ],
   "source": [
    "number = int(input(\"Enter a number: \"))\n",
    "count = 0\n",
    "\n",
    "while number > 10:\n",
    "    number = number / 3\n",
    "    count += 1\n",
    "\n",
    "print(\"The number can be divided by 3\", count, \"times.\")\n"
   ]
  },
  {
   "cell_type": "markdown",
   "id": "d3e4d115-2d23-48b9-8a28-d137304fc230",
   "metadata": {},
   "source": [
    "Q.5. Why and When to Use while Loop in Python give a detailed description with example\n"
   ]
  },
  {
   "cell_type": "markdown",
   "id": "bb0eef39-f016-45d7-a6bc-a9f097f2387d",
   "metadata": {},
   "source": [
    "\n",
    "A while loop in Python is used to execute a block of code repeatedly as long as a certain condition is met. The basic structure of a while loop is as follows:"
   ]
  },
  {
   "cell_type": "markdown",
   "id": "9348a66b-ada3-4542-8252-d85437312bb0",
   "metadata": {},
   "source": [
    "The condition is a Boolean expression that determines whether the loop should continue to execute. If the condition is True, the code inside the loop is executed and the condition is reevaluated. If the condition is False, the loop terminates and the program continues with the next statement after the loop."
   ]
  },
  {
   "cell_type": "code",
   "execution_count": 12,
   "id": "29df8472-648a-41f7-9877-9d2779a28914",
   "metadata": {},
   "outputs": [
    {
     "name": "stdout",
     "output_type": "stream",
     "text": [
      "1\n",
      "2\n",
      "3\n",
      "4\n",
      "5\n",
      "6\n",
      "7\n",
      "8\n",
      "9\n",
      "10\n"
     ]
    }
   ],
   "source": [
    "count = 1\n",
    "\n",
    "while count <= 10:\n",
    "    print(count)\n",
    "    count += 1\n"
   ]
  },
  {
   "cell_type": "code",
   "execution_count": null,
   "id": "a058523c-f671-46a3-a0a9-08127dbf0eba",
   "metadata": {},
   "outputs": [],
   "source": [
    "Q.6. Use nested while loop to print 3 different pattern.\n"
   ]
  },
  {
   "cell_type": "code",
   "execution_count": 14,
   "id": "30425dd8-5516-4a19-98f4-83fd6cfbf948",
   "metadata": {},
   "outputs": [
    {
     "name": "stdout",
     "output_type": "stream",
     "text": [
      "1\n",
      "11\n",
      "111\n",
      "1111\n",
      "11111\n",
      "\n"
     ]
    }
   ],
   "source": [
    "rows = 5\n",
    "count = 1\n",
    "while count <= rows:\n",
    "    inner_count = 1\n",
    "    while inner_count <= count:\n",
    "        print(\"1\", end=\"\")\n",
    "        inner_count += 1\n",
    "    print()\n",
    "    count += 1\n",
    "\n",
    "print()"
   ]
  },
  {
   "cell_type": "code",
   "execution_count": 15,
   "id": "34d193f0-7060-40aa-a4ae-7cb523a9d0f8",
   "metadata": {},
   "outputs": [
    {
     "name": "stdout",
     "output_type": "stream",
     "text": [
      "22222\n",
      "2222\n",
      "222\n",
      "22\n",
      "2\n",
      "\n"
     ]
    }
   ],
   "source": [
    "rows = 5\n",
    "count = rows\n",
    "while count >= 1:\n",
    "    inner_count = 1\n",
    "    while inner_count <= count:\n",
    "        print(\"2\", end=\"\")\n",
    "        inner_count += 1\n",
    "    print()\n",
    "    count -= 1\n",
    "\n",
    "print()"
   ]
  },
  {
   "cell_type": "code",
   "execution_count": 17,
   "id": "450f81fe-deea-4daf-82e4-4d98e3363bb9",
   "metadata": {},
   "outputs": [
    {
     "name": "stdout",
     "output_type": "stream",
     "text": [
      "    3\n",
      "   333\n",
      "  33333\n",
      " 3333333\n",
      "333333333\n",
      " 5555555\n",
      "  55555\n",
      "   555\n",
      "    5\n"
     ]
    }
   ],
   "source": [
    "rows = 5\n",
    "count = 1\n",
    "while count <= rows:\n",
    "    spaces = 1\n",
    "    while spaces <= rows - count:\n",
    "        print(\" \", end=\"\")\n",
    "        spaces += 1\n",
    "    stars = 1\n",
    "    while stars <= 2 * count - 1:\n",
    "        print(\"3\", end=\"\")\n",
    "        stars += 1\n",
    "    print()\n",
    "    count += 1\n",
    "\n",
    "count = rows - 1\n",
    "while count >= 1:\n",
    "    spaces = 1\n",
    "    while spaces <= rows - count:\n",
    "        print(\" \", end=\"\")\n",
    "        spaces += 1\n",
    "    stars = 1\n",
    "    while stars <= 2 * count - 1:\n",
    "        print(\"5\", end=\"\")\n",
    "        stars += 1\n",
    "    print()\n",
    "    count -= 1"
   ]
  },
  {
   "cell_type": "markdown",
   "id": "d9cf479c-a525-4049-88d3-6eeddcd876ad",
   "metadata": {},
   "source": [
    "Q.7. Reverse a while loop to display numbers from 10 to 1.\n"
   ]
  },
  {
   "cell_type": "code",
   "execution_count": 18,
   "id": "7a2b3e51-abd9-42bf-8eed-7e27e44afe23",
   "metadata": {},
   "outputs": [
    {
     "name": "stdout",
     "output_type": "stream",
     "text": [
      "10\n",
      "9\n",
      "8\n",
      "7\n",
      "6\n",
      "5\n",
      "4\n",
      "3\n",
      "2\n",
      "1\n",
      "0\n"
     ]
    }
   ],
   "source": [
    "n = 10\n",
    "while n >= 0:\n",
    "    print(n)\n",
    "    n -= 1\n"
   ]
  },
  {
   "cell_type": "code",
   "execution_count": null,
   "id": "ec609bf5-b1b2-486b-aa62-22e9cf58e997",
   "metadata": {},
   "outputs": [],
   "source": []
  }
 ],
 "metadata": {
  "kernelspec": {
   "display_name": "Python 3 (ipykernel)",
   "language": "python",
   "name": "python3"
  },
  "language_info": {
   "codemirror_mode": {
    "name": "ipython",
    "version": 3
   },
   "file_extension": ".py",
   "mimetype": "text/x-python",
   "name": "python",
   "nbconvert_exporter": "python",
   "pygments_lexer": "ipython3",
   "version": "3.10.8"
  }
 },
 "nbformat": 4,
 "nbformat_minor": 5
}
